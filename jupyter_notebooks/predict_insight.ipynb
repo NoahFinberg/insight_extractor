{
 "cells": [
  {
   "cell_type": "markdown",
   "metadata": {},
   "source": [
    "## Config"
   ]
  },
  {
   "cell_type": "code",
   "execution_count": 11,
   "metadata": {},
   "outputs": [],
   "source": [
    "import pandas as pd\n",
    "import numpy as np\n",
    "\n",
    "import os\n",
    "import re\n",
    "import string\n",
    "from nltk.corpus import stopwords\n",
    "\n",
    "import tensorflow as tf\n",
    "from sklearn.model_selection import train_test_split\n",
    "\n",
    "import json\n",
    "from keras_preprocessing.text import tokenizer_from_json\n",
    "\n",
    "\n",
    "# WORD-level\n",
    "MAX_SEQ_LENGTH    = 500\n",
    "MAX_NUM_WORDS     = 15000"
   ]
  },
  {
   "cell_type": "markdown",
   "metadata": {},
   "source": [
    "## Load Data"
   ]
  },
  {
   "cell_type": "code",
   "execution_count": 57,
   "metadata": {},
   "outputs": [],
   "source": [
    "## Input data here. For now hard coded, but want a list of sentences to check\n",
    "X_test = [\n",
    "        \"Some 79 percent fretted about heightened likelihood of military conflict and 73 percent saw rising risks of an erosion of world trading rules.\",\n",
    "         \"The European Commission, the European Union's executive arm, found that Qualcomm's practices had a significant, detrimental impact on competition in the region.\",\n",
    "         \"One study found that for cancer patients considering experimental chemotherapy, trust in their physician was one of the most important reasons they enrolled in a clinical trial -- on par with the belief that the treatment would be effective.\",\n",
    "         \"Three weeks after the intrusion came to light, American officials are still trying to understand whether what the Russians pulled off was simply an espionage operation inside the systems of the American bureaucracy or something more sinister, inserting “backdoor” access into government agencies, major corporations, the electric grid and laboratories developing and transporting new generations of nuclear weapons.\",\n",
    "         \"But with a new administration taking office in three weeks, some analysts say the Russians may be trying to shake Washington’s confidence in the security of its communications and demonstrate their cyberarsenal to gain leverage against President-elect Joseph R. Biden Jr. before nuclear arms talks.\",\n",
    "         \"Eight weeks later, General Nakasone and other American officials responsible for cybersecurity are now consumed by what they missed for at least nine months: a hacking, now believed to have affected upward of 250 federal agencies and businesses, that Russia aimed not at the election system but at the rest of the United States government and many large American corporations.\",\n",
    "        \"In 1966, more than three-fourths of Americans had great confidence in medical leaders; today, only 34 percent do.\"\n",
    "         \"That level of self-awareness is quite elusive: Although some 95 percent of people think they're self-aware, only about 10 percent to 15 percent truly are, according to one study.\",\n",
    "        \"Additionally, using data on latitude and longitude reported in the tickets, we found that increases in this extreme speeding were concentrated in areas close to movie theaters (often within two miles), consistent with speeding behavior induced by moviegoing.\",\n",
    "\"It's not just that 71 percent of Americans oppose federal government efforts to stop marijuana sales, but an equally large majority thinks overall drug abuse should be treated as an addiction and mental health problem, rather than a criminal offense.\",\n",
    "\"A big reason: 87 percent of respondents, including 79 percent of Republicans, said in one poll that insurers should be required to cover people with pre-existing conditions.\",\n",
    "\"According to the most recent statistics, more than a million people a year are arrested for simple drug possession in the United States -- and more than half a million of those arrests are for marijuana possession.\"]\n",
    "\n",
    "\n",
    "\n",
    "\n",
    "       "
   ]
  },
  {
   "cell_type": "markdown",
   "metadata": {},
   "source": [
    "## Preprocess Data"
   ]
  },
  {
   "cell_type": "code",
   "execution_count": 58,
   "metadata": {},
   "outputs": [],
   "source": [
    "def clean_doc(doc):\n",
    "    \"\"\"\n",
    "    Cleaning a document by several methods:\n",
    "        - Lowercase\n",
    "        - Removing whitespaces\n",
    "        - Removing numbers\n",
    "        - Removing stopwords\n",
    "        - Removing punctuations\n",
    "        - Removing short words\n",
    "    \"\"\"\n",
    "    stop_words = set(stopwords.words('english'))\n",
    "    \n",
    "    # Lowercase\n",
    "    doc = doc.lower()\n",
    "    # Remove numbers\n",
    "    #doc = re.sub(r\"[0-9]+\", \"\", doc)\n",
    "    # Split in tokens\n",
    "    tokens = doc.split()\n",
    "    # Remove Stopwords\n",
    "    tokens = [w for w in tokens if not w in stop_words]\n",
    "    # Remove punctuation\n",
    "    tokens = [w.translate(str.maketrans('', '', string.punctuation)) for w in tokens]\n",
    "    # Tokens with less then two characters will be ignored\n",
    "    tokens = [word for word in tokens if len(word) > 1]\n",
    "    return ' '.join(tokens)"
   ]
  },
  {
   "cell_type": "code",
   "execution_count": 59,
   "metadata": {},
   "outputs": [],
   "source": [
    "X_test = [clean_doc(x) for x in X_test]\n",
    "\n",
    "# load tokenizer\n",
    "with open('models/combined-tokenizer.json') as f:\n",
    "    data = json.load(f)\n",
    "    tokenizer = tokenizer_from_json(data)\n",
    "\n",
    "sequences_test = tokenizer.texts_to_sequences(X_test)\n",
    "X_test_word    = tf.keras.preprocessing.sequence.pad_sequences(sequences_test, maxlen=MAX_SEQ_LENGTH, padding='post')"
   ]
  },
  {
   "cell_type": "markdown",
   "metadata": {},
   "source": [
    "## Load Model"
   ]
  },
  {
   "cell_type": "code",
   "execution_count": 60,
   "metadata": {},
   "outputs": [],
   "source": [
    "cnn_ = tf.keras.models.load_model(\"models/model-combined-1.h5\")"
   ]
  },
  {
   "cell_type": "markdown",
   "metadata": {},
   "source": [
    "## Run Prediction"
   ]
  },
  {
   "cell_type": "code",
   "execution_count": 61,
   "metadata": {},
   "outputs": [
    {
     "name": "stdout",
     "output_type": "stream",
     "text": [
      "WARNING:tensorflow:11 out of the last 11 calls to <function Model.make_predict_function.<locals>.predict_function at 0x1413bbae8> triggered tf.function retracing. Tracing is expensive and the excessive number of tracings could be due to (1) creating @tf.function repeatedly in a loop, (2) passing tensors with different shapes, (3) passing Python objects instead of tensors. For (1), please define your @tf.function outside of the loop. For (2), @tf.function has experimental_relax_shapes=True option that relaxes argument shapes that can avoid unnecessary retracing. For (3), please refer to https://www.tensorflow.org/guide/function#controlling_retracing and https://www.tensorflow.org/api_docs/python/tf/function for  more details.\n",
      "[[0.88195443 0.11804556]\n",
      " [0.89204884 0.10795109]\n",
      " [0.37104332 0.6289567 ]\n",
      " [0.94112545 0.05887448]\n",
      " [0.98701906 0.01298088]\n",
      " [0.9243415  0.07565851]\n",
      " [0.359622   0.640378  ]\n",
      " [0.46854678 0.53145325]\n",
      " [0.60797894 0.3920211 ]\n",
      " [0.6159451  0.3840549 ]\n",
      " [0.28326824 0.7167318 ]]\n",
      "[0, 0, 1, 0, 0, 0, 1, 1, 0, 0, 1]\n"
     ]
    }
   ],
   "source": [
    "predictions = cnn_.predict(X_test_word, batch_size=10, verbose=0)\n",
    "print(predictions)\n",
    "\n",
    "# classify (is insight?)\n",
    "rounded_predictions = [round(rp[1]) for rp in predictions]\n",
    "print(rounded_predictions)"
   ]
  },
  {
   "cell_type": "code",
   "execution_count": null,
   "metadata": {},
   "outputs": [],
   "source": []
  }
 ],
 "metadata": {
  "kernelspec": {
   "display_name": "Python 3",
   "language": "python",
   "name": "python3"
  },
  "language_info": {
   "codemirror_mode": {
    "name": "ipython",
    "version": 3
   },
   "file_extension": ".py",
   "mimetype": "text/x-python",
   "name": "python",
   "nbconvert_exporter": "python",
   "pygments_lexer": "ipython3",
   "version": "3.6.5"
  }
 },
 "nbformat": 4,
 "nbformat_minor": 4
}
